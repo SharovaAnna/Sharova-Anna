{
 "cells": [
  {
   "cell_type": "markdown",
   "metadata": {},
   "source": [
    "## Упражнение 1\n",
    "Вам дана функция на языке python:\n",
    "```Python\n",
    "def print_map(function, iterable):\n",
    "    for i in iterable:\n",
    "        print(function(i))\n",
    "```\n",
    "Требуется переписать данную функцию не используя цикл for."
   ]
  },
  {
   "cell_type": "code",
   "execution_count": 1,
   "metadata": {},
   "outputs": [],
   "source": [
    "def print_map(function, iterable):\n",
    "    while(True):\n",
    "        try:\n",
    "            print(function(next(iterable)))\n",
    "        except StopIteration:\n",
    "            break"
   ]
  },
  {
   "cell_type": "code",
   "execution_count": 2,
   "metadata": {},
   "outputs": [
    {
     "name": "stdout",
     "output_type": "stream",
     "text": [
      "2\n",
      "46\n",
      "8\n",
      "10\n"
     ]
    }
   ],
   "source": [
    "def test_f1(x):\n",
    "    return x*2\n",
    "a = [1, 23, 4, 5]\n",
    "print_map(test_f1, iter(a))"
   ]
  },
  {
   "cell_type": "markdown",
   "metadata": {},
   "source": [
    "## Упражнение 2\n",
    "Напишите генератор, выводящий первые n чисел Фибоначчи."
   ]
  },
  {
   "cell_type": "code",
   "execution_count": 3,
   "metadata": {},
   "outputs": [],
   "source": [
    "def Fibonacci(n):\n",
    "    a, b = 1, 2\n",
    "    while n > 0:\n",
    "        yield a\n",
    "        a, b = b, a + b\n",
    "        n-=1"
   ]
  },
  {
   "cell_type": "code",
   "execution_count": 4,
   "metadata": {},
   "outputs": [
    {
     "name": "stdout",
     "output_type": "stream",
     "text": [
      "1 2 3 5 8 13 21 34 55 89 "
     ]
    }
   ],
   "source": [
    "for i in Fibonacci(10):\n",
    "    print(i, end = \" \")"
   ]
  },
  {
   "cell_type": "markdown",
   "metadata": {},
   "source": [
    "## Упражнение 3\n",
    "Реализуйте аналог функций zip, map, enumerate."
   ]
  },
  {
   "cell_type": "code",
   "execution_count": 5,
   "metadata": {},
   "outputs": [],
   "source": [
    "def my_map(function, iterable):\n",
    "    while(True):\n",
    "        try:\n",
    "            yield function(next(iterable))\n",
    "        except StopIteration:\n",
    "            break\n",
    "\n",
    "def my_zip(*args):\n",
    "    iters = list(my_map(iter, iter(args)))\n",
    "    m = min(my_map(len, iter(args)))\n",
    "    for i in range(m):\n",
    "            yield tuple(my_map(next, iter(iters)))\n",
    "\n",
    "def my_enumerate(iterable, start = 0):\n",
    "    while(True):\n",
    "        try:\n",
    "            yield (start, next(iterable))\n",
    "            start += 1\n",
    "        except StopIteration:\n",
    "            break"
   ]
  },
  {
   "cell_type": "code",
   "execution_count": 6,
   "metadata": {},
   "outputs": [
    {
     "name": "stdout",
     "output_type": "stream",
     "text": [
      "(1, 'a') (2, 'b') (3, 'c')\n",
      "(5, 1) (6, 2) (7, 3) (8, 4) (9, 5)\n"
     ]
    }
   ],
   "source": [
    "print(*my_zip([1, 2, 3], ['a', 'b', 'c']))\n",
    "print(*my_enumerate(iter([1, 2, 3, 4, 5]), 5))"
   ]
  },
  {
   "cell_type": "markdown",
   "metadata": {},
   "source": [
    "## Упражнение №1\n",
    "Написать функцию, принимающую 2 списка и возвращающую декартово произведение (использовать itertools.product)\n",
    "```Python\n",
    "def get_cartesian_product(a, b):\n",
    "    raise RuntimeError(\"Not implemented\")\n",
    "\n",
    "get_cartesian_product([1, 2], [3, 4]) == [(1, 3), (1, 4), (2, 3), (2, 4)]\n",
    "```"
   ]
  },
  {
   "cell_type": "code",
   "execution_count": 7,
   "metadata": {},
   "outputs": [],
   "source": [
    "from itertools import product\n",
    "\n",
    "def get_cartesian_product(a, b):\n",
    "    return product(a, b)"
   ]
  },
  {
   "cell_type": "code",
   "execution_count": 8,
   "metadata": {},
   "outputs": [
    {
     "name": "stdout",
     "output_type": "stream",
     "text": [
      "(1, 3) (1, 4) (2, 3) (2, 4)\n"
     ]
    }
   ],
   "source": [
    "print(*get_cartesian_product([1, 2], [3, 4]))"
   ]
  },
  {
   "cell_type": "markdown",
   "metadata": {},
   "source": [
    "## Упражнение №2\n",
    "Написать функцию, принимающую строку s и число n и возвращающую всевозможные перестановки из n символов в s строке в лексикографическом(!) порядке (использовать itertools.permutations)\n",
    "```Python\n",
    "def get_permutations(s, n):\n",
    "    raise RuntimeError(\"Not implemented\")\n",
    "\n",
    "get_permutations(\"cat\", 2) == [\"ac\", \"at\", \"ca\", \"ct\", \"ta\", \"tc\"]\n",
    "```"
   ]
  },
  {
   "cell_type": "code",
   "execution_count": 9,
   "metadata": {},
   "outputs": [],
   "source": [
    "from itertools import permutations\n",
    "\n",
    "def get_permutations(a, b):\n",
    "    return (map(''.join, permutations(sorted(a), b)))"
   ]
  },
  {
   "cell_type": "code",
   "execution_count": 20,
   "metadata": {},
   "outputs": [
    {
     "name": "stdout",
     "output_type": "stream",
     "text": [
      "ac at ca ct ta tc\n"
     ]
    }
   ],
   "source": [
    "print(*get_permutations(\"cat\", 2))"
   ]
  },
  {
   "cell_type": "markdown",
   "metadata": {},
   "source": [
    "## Упражнение №3\n",
    "Реализовать функцию get_combinations. Должна принимать строку s и число k и возвращать все возможные комбинации из символов в строке s с длинами <= k (использовать itertools.combinations)\n",
    "```Python\n",
    "def get_combinations(s, n):\n",
    "    raise RuntimeError(\"Not implemented\")\n",
    "\n",
    "get_combinations(\"cat\", 2) == [\"a\", \"c\", \"t\", \"ac\", \"at\", \"ct\"]\n",
    "```"
   ]
  },
  {
   "cell_type": "code",
   "execution_count": 11,
   "metadata": {},
   "outputs": [],
   "source": [
    "from itertools import combinations\n",
    "\n",
    "def get_combinations(s, n):\n",
    "    res = list()\n",
    "    for i in range(n):\n",
    "         res += map(''.join, (combinations(sorted(s), i+1)))\n",
    "    return res"
   ]
  },
  {
   "cell_type": "code",
   "execution_count": 12,
   "metadata": {},
   "outputs": [
    {
     "name": "stdout",
     "output_type": "stream",
     "text": [
      "['a', 'c', 't', 'ac', 'at', 'ct']\n"
     ]
    }
   ],
   "source": [
    "print(get_combinations(\"cat\", 2))"
   ]
  },
  {
   "cell_type": "markdown",
   "metadata": {},
   "source": [
    "## Упражнение №4\n",
    "Функция должна принимать строку s и число k и возвращать все возможные комбинации из символов в строке s с длинами = k с повторениями (использовать itertools.combinations_with_replacement)\n",
    "``` Python\n",
    "def get_combinations_with_r(s, n):\n",
    "    raise RuntimeError(\"Not implemented\")\n",
    "\n",
    "get_combinations_with_r(\"cat\", 2) == [\"aa\", \"ac\", \"at\", \"cc\", \"ct\", \"tt\"]\n",
    "```"
   ]
  },
  {
   "cell_type": "code",
   "execution_count": 13,
   "metadata": {},
   "outputs": [],
   "source": [
    "from itertools import combinations_with_replacement\n",
    "\n",
    "def get_combinations_with_r(s, n):\n",
    "    return map(''.join, combinations_with_replacement(sorted(s), n))"
   ]
  },
  {
   "cell_type": "code",
   "execution_count": 14,
   "metadata": {},
   "outputs": [
    {
     "name": "stdout",
     "output_type": "stream",
     "text": [
      "aa ac at cc ct tt\n"
     ]
    }
   ],
   "source": [
    "print(*get_combinations_with_r(\"cat\", 2))"
   ]
  },
  {
   "cell_type": "markdown",
   "metadata": {},
   "source": [
    "## Упражнение №5\n",
    "Написать функцию, которая подсчитывает количество подряд идующих символов в строке (использовать itertools.groupby)\n",
    "```Python\n",
    "def compress_string(s):\n",
    "    raise RuntimeError(\"Not implemented\")\n",
    "\n",
    "compress_string('1222311') == [(1, 1), (3, 2), (1, 3), (2, 1)]\n",
    "```"
   ]
  },
  {
   "cell_type": "code",
   "execution_count": 15,
   "metadata": {},
   "outputs": [],
   "source": [
    "from itertools import groupby\n",
    "\n",
    "def compress_string(s):\n",
    "    return map(lambda a, :(len(list(a[1])), a[0]), groupby(s))"
   ]
  },
  {
   "cell_type": "code",
   "execution_count": 16,
   "metadata": {},
   "outputs": [
    {
     "name": "stdout",
     "output_type": "stream",
     "text": [
      "(1, '1') (3, '2') (1, '3') (2, '1')\n"
     ]
    }
   ],
   "source": [
    "print(*compress_string(\"1222311\"))"
   ]
  },
  {
   "cell_type": "markdown",
   "metadata": {},
   "source": [
    "## Упражнение №6\n",
    "В функцию передается список списков. Нужно вернуть максимум, который достигает выражение $(a_1^2 + a_2^2 + ... + a_n^2)$%m. Где ai --- максимальный элемент из i-ого списка (использовать функцию из itertools)\n",
    "```Python\n",
    "def maximize(lists, m):\n",
    "    raise RuntimeError(\"Not implemented\")\n",
    "\n",
    "lists = [\n",
    "    [5, 4],\n",
    "    [7, 8, 9],\n",
    "    [5, 7, 8, 9, 10]\n",
    "]\n",
    "maximize(lists, m=1000) == 206\n",
    "```\n",
    "В примере = 206, так как это максимум от суммы (a21 + a22 + a23)%1000\n",
    "\n",
    "a1 = 5, a2 = 9, a3 = 10"
   ]
  },
  {
   "cell_type": "code",
   "execution_count": 17,
   "metadata": {},
   "outputs": [],
   "source": [
    "from itertools import starmap\n",
    "\n",
    "def maximize(lists, m):\n",
    "    return sum(starmap(pow, [ (y, 2) for y in map(max,lists) ]))%m"
   ]
  },
  {
   "cell_type": "code",
   "execution_count": 18,
   "metadata": {},
   "outputs": [
    {
     "name": "stdout",
     "output_type": "stream",
     "text": [
      "206\n"
     ]
    }
   ],
   "source": [
    "lists = [\n",
    "    [5, 4],\n",
    "    [7, 8, 9],\n",
    "    [5, 7, 8, 9, 10]\n",
    "]\n",
    "print(maximize(lists, m=1000))"
   ]
  }
 ],
 "metadata": {
  "kernelspec": {
   "display_name": "Python 3",
   "language": "python",
   "name": "python3"
  },
  "language_info": {
   "codemirror_mode": {
    "name": "ipython",
    "version": 3
   },
   "file_extension": ".py",
   "mimetype": "text/x-python",
   "name": "python",
   "nbconvert_exporter": "python",
   "pygments_lexer": "ipython3",
   "version": "3.6.8"
  }
 },
 "nbformat": 4,
 "nbformat_minor": 2
}
